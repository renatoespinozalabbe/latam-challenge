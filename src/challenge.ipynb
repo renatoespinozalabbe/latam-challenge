{
 "cells": [
  {
   "cell_type": "markdown",
   "metadata": {},
   "source": [
    "En este archivo puedes escribir lo que estimes conveniente. Te recomendamos detallar tu solución y todas las suposiciones que estás considerando. Aquí puedes ejecutar las funciones que definiste en los otros archivos de la carpeta src, medir el tiempo, memoria, etc."
   ]
  },
  {
   "cell_type": "code",
   "execution_count": 27,
   "metadata": {},
   "outputs": [],
   "source": [
    "file_path = \"farmers-protest-tweets-2021-2-4.json\""
   ]
  },
  {
   "cell_type": "markdown",
   "metadata": {},
   "source": [
    "## Data"
   ]
  },
  {
   "cell_type": "markdown",
   "metadata": {},
   "source": [
    "### Importación y validación de datos\n",
    "Se importa el archivo json que se ubica en el file_path declarado anteriormente, adicionalmente se realiza una primera validación general."
   ]
  },
  {
   "cell_type": "code",
   "execution_count": 28,
   "metadata": {},
   "outputs": [
    {
     "name": "stdout",
     "output_type": "stream",
     "text": [
      "                                                 url  \\\n",
      "0  https://twitter.com/ArjunSinghPanam/status/136...   \n",
      "1  https://twitter.com/PrdeepNain/status/13645062...   \n",
      "2  https://twitter.com/parmarmaninder/status/1364...   \n",
      "3  https://twitter.com/anmoldhaliwal/status/13645...   \n",
      "4  https://twitter.com/KotiaPreet/status/13645061...   \n",
      "\n",
      "                       date  \\\n",
      "0 2021-02-24 09:23:35+00:00   \n",
      "1 2021-02-24 09:23:32+00:00   \n",
      "2 2021-02-24 09:23:22+00:00   \n",
      "3 2021-02-24 09:23:16+00:00   \n",
      "4 2021-02-24 09:23:10+00:00   \n",
      "\n",
      "                                             content  \\\n",
      "0  The world progresses while the Indian police a...   \n",
      "1  #FarmersProtest \\n#ModiIgnoringFarmersDeaths \\...   \n",
      "2  ਪੈਟਰੋਲ ਦੀਆਂ ਕੀਮਤਾਂ ਨੂੰ ਮੱਦੇਨਜ਼ਰ ਰੱਖਦੇ ਹੋਏ \\nਮੇ...   \n",
      "3  @ReallySwara @rohini_sgh watch full video here...   \n",
      "4  #KisanEktaMorcha #FarmersProtest #NoFarmersNoF...   \n",
      "\n",
      "                                     renderedContent                   id  \\\n",
      "0  The world progresses while the Indian police a...  1364506249291784198   \n",
      "1  #FarmersProtest \\n#ModiIgnoringFarmersDeaths \\...  1364506237451313155   \n",
      "2  ਪੈਟਰੋਲ ਦੀਆਂ ਕੀਮਤਾਂ ਨੂੰ ਮੱਦੇਨਜ਼ਰ ਰੱਖਦੇ ਹੋਏ \\nਮੇ...  1364506195453767680   \n",
      "3  @ReallySwara @rohini_sgh watch full video here...  1364506167226032128   \n",
      "4  #KisanEktaMorcha #FarmersProtest #NoFarmersNoF...  1364506144002088963   \n",
      "\n",
      "                                                user  \\\n",
      "0  {'username': 'ArjunSinghPanam', 'displayname':...   \n",
      "1  {'username': 'PrdeepNain', 'displayname': 'Pra...   \n",
      "2  {'username': 'parmarmaninder', 'displayname': ...   \n",
      "3  {'username': 'anmoldhaliwal', 'displayname': '...   \n",
      "4  {'username': 'KotiaPreet', 'displayname': 'Pre...   \n",
      "\n",
      "                                            outlinks  \\\n",
      "0  [https://twitter.com/ravisinghka/status/136415...   \n",
      "1                                                 []   \n",
      "2                                                 []   \n",
      "3                     [https://youtu.be/-bUKumwq-J8]   \n",
      "4                                                 []   \n",
      "\n",
      "                 tcooutlinks  replyCount  retweetCount  ...  quoteCount  \\\n",
      "0  [https://t.co/es3kn0IQAF]           0             0  ...           0   \n",
      "1                         []           0             0  ...           0   \n",
      "2                         []           0             0  ...           0   \n",
      "3  [https://t.co/wBPNdJdB0n]           0             0  ...           0   \n",
      "4                         []           0             0  ...           0   \n",
      "\n",
      "        conversationId  lang  \\\n",
      "0  1364506249291784198    en   \n",
      "1  1364506237451313155    en   \n",
      "2  1364506195453767680    pa   \n",
      "3  1364350947099484160    en   \n",
      "4  1364506144002088963   und   \n",
      "\n",
      "                                              source  \\\n",
      "0  <a href=\"http://twitter.com/download/iphone\" r...   \n",
      "1  <a href=\"http://twitter.com/download/android\" ...   \n",
      "2  <a href=\"http://twitter.com/download/android\" ...   \n",
      "3  <a href=\"https://mobile.twitter.com\" rel=\"nofo...   \n",
      "4  <a href=\"http://twitter.com/download/iphone\" r...   \n",
      "\n",
      "                             sourceUrl          sourceLabel  \\\n",
      "0   http://twitter.com/download/iphone   Twitter for iPhone   \n",
      "1  http://twitter.com/download/android  Twitter for Android   \n",
      "2  http://twitter.com/download/android  Twitter for Android   \n",
      "3           https://mobile.twitter.com      Twitter Web App   \n",
      "4   http://twitter.com/download/iphone   Twitter for iPhone   \n",
      "\n",
      "                                               media retweetedTweet  \\\n",
      "0                                               None            NaN   \n",
      "1  [{'thumbnailUrl': 'https://pbs.twimg.com/ext_t...            NaN   \n",
      "2                                               None            NaN   \n",
      "3  [{'thumbnailUrl': 'https://pbs.twimg.com/ext_t...            NaN   \n",
      "4  [{'previewUrl': 'https://pbs.twimg.com/media/E...            NaN   \n",
      "\n",
      "                                         quotedTweet  \\\n",
      "0  {'url': 'https://twitter.com/RaviSinghKA/statu...   \n",
      "1                                               None   \n",
      "2                                               None   \n",
      "3                                               None   \n",
      "4                                               None   \n",
      "\n",
      "                                      mentionedUsers  \n",
      "0  [{'username': 'narendramodi', 'displayname': '...  \n",
      "1  [{'username': 'Kisanektamorcha', 'displayname'...  \n",
      "2                                               None  \n",
      "3  [{'username': 'ReallySwara', 'displayname': 'S...  \n",
      "4                                               None  \n",
      "\n",
      "[5 rows x 21 columns]\n"
     ]
    }
   ],
   "source": [
    "import pandas as pd\n",
    "\n",
    "# Leer el archivo json considerando cada línea como un json por separado\n",
    "df=pd.read_json(file_path,lines=True)\n",
    "\n",
    "# Revisar la estructura general del archivo\n",
    "print(df.head())"
   ]
  },
  {
   "cell_type": "code",
   "execution_count": 30,
   "metadata": {},
   "outputs": [],
   "source": [
    "# Descripción general del DataFrame\n",
    "def describe_dataframe(df):\n",
    "    print(\"Descripción general del DataFrame:\")\n",
    "    print(df.info())\n",
    "    print(\"\\nPrimeras filas del DataFrame:\")\n",
    "    print(df.head())\n",
    "    print(\"\\nDescripción estadística de los campos numéricos:\")\n",
    "    print(df.describe())"
   ]
  }
 ],
 "metadata": {
  "kernelspec": {
   "display_name": ".venv",
   "language": "python",
   "name": "python3"
  },
  "language_info": {
   "codemirror_mode": {
    "name": "ipython",
    "version": 3
   },
   "file_extension": ".py",
   "mimetype": "text/x-python",
   "name": "python",
   "nbconvert_exporter": "python",
   "pygments_lexer": "ipython3",
   "version": "3.9.13"
  },
  "orig_nbformat": 4
 },
 "nbformat": 4,
 "nbformat_minor": 2
}
